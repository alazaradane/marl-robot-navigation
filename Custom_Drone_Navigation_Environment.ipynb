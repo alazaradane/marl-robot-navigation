{
  "nbformat": 4,
  "nbformat_minor": 0,
  "metadata": {
    "colab": {
      "provenance": [],
      "authorship_tag": "ABX9TyNTpaIjbFHIVtCZkkrN6L1h",
      "include_colab_link": true
    },
    "kernelspec": {
      "name": "python3",
      "display_name": "Python 3"
    },
    "language_info": {
      "name": "python"
    }
  },
  "cells": [
    {
      "cell_type": "markdown",
      "metadata": {
        "id": "view-in-github",
        "colab_type": "text"
      },
      "source": [
        "<a href=\"https://colab.research.google.com/github/alazaradane/marl-robot-navigation/blob/main/Custom_Drone_Navigation_Environment.ipynb\" target=\"_parent\"><img src=\"https://colab.research.google.com/assets/colab-badge.svg\" alt=\"Open In Colab\"/></a>"
      ]
    },
    {
      "cell_type": "markdown",
      "source": [
        "# Custom Drone Navigation Environment"
      ],
      "metadata": {
        "id": "cntdSlwku_7L"
      }
    },
    {
      "cell_type": "code",
      "execution_count": null,
      "metadata": {
        "id": "KNCqwdEzsJWA"
      },
      "outputs": [],
      "source": [
        "import gym\n",
        "import numpy as np\n",
        "from gym import spaces\n",
        "import pybullet as p\n",
        "import pybullet_data\n",
        "\n",
        "class CustomDroneEnv(gym.Env):\n",
        "    def __init__(self):\n",
        "        super(CustomDroneEnv, self).__init__()\n",
        "\n",
        "        # Observation space: Position and velocity (x, y, z, vx, vy, vz)\n",
        "        self.observation_space = spaces.Box(low=-np.inf, high=np.inf, shape=(6,), dtype=np.float32)\n",
        "\n",
        "        # Action space: Changes to rotor speeds (assume 4 rotors)\n",
        "        self.action_space = spaces.Box(low=-1.0, high=1.0, shape=(4,), dtype=np.float32)\n",
        "\n",
        "        # PyBullet setup\n",
        "        self.physics_client = p.connect(p.GUI)\n",
        "        p.setAdditionalSearchPath(pybullet_data.getDataPath())\n",
        "        p.setGravity(0, 0, -9.8)\n",
        "\n",
        "        self.drone = None\n",
        "        self.start_pos = None\n",
        "        self.target_pos = None\n",
        "        self.episode_step = 0\n",
        "\n",
        "        self._max_episode_steps = 200\n",
        "        self.shaded_areas = []  # Dynamic obstacle zones\n",
        "\n",
        "    def reset(self):\n",
        "        # Reset episode state\n",
        "        self.episode_step = 0\n",
        "        p.resetSimulation()\n",
        "\n",
        "        # Load ground plane\n",
        "        p.loadURDF(\"plane.urdf\")\n",
        "\n",
        "        # Initialize random start and target positions\n",
        "        self.start_pos = np.random.uniform(low=[-5, -5, 1], high=[5, 5, 2])\n",
        "        self.target_pos = np.random.uniform(low=[-5, -5, 1], high=[5, 5, 2])\n",
        "\n",
        "        while np.linalg.norm(self.start_pos - self.target_pos) < 2.0:  # Ensure target isn't too close\n",
        "            self.target_pos = np.random.uniform(low=[-5, -5, 1], high=[5, 5, 2])\n",
        "\n",
        "        # Spawn drone\n",
        "        self.drone = p.loadURDF(\"quadrotor.urdf\", basePosition=self.start_pos)\n",
        "\n",
        "        # Generate dynamic shaded/obstacle areas\n",
        "        self.shaded_areas = [np.random.uniform(-5, 5, size=(3,)) for _ in range(3)]\n",
        "\n",
        "        return self._get_observation()\n",
        "\n",
        "    def _get_observation(self):\n",
        "        pos, vel = p.getBasePositionAndOrientation(self.drone)[0], p.getBaseVelocity(self.drone)[0]\n",
        "        return np.array(list(pos) + list(vel))\n",
        "\n",
        "    def step(self, action):\n",
        "        # Apply action to control the drone\n",
        "        for i, rotor_force in enumerate(action):\n",
        "            p.applyExternalForce(\n",
        "                self.drone, linkIndex=-1, forceObj=[0, 0, rotor_force * 10], posObj=[0, 0, 0], flags=p.WORLD_FRAME\n",
        "            )\n",
        "\n",
        "        p.stepSimulation()\n",
        "\n",
        "        # Get updated observation\n",
        "        obs = self._get_observation()\n",
        "        current_pos = obs[:3]\n",
        "\n",
        "        # Compute reward\n",
        "        reward = -np.linalg.norm(self.target_pos - current_pos)  # Reward for getting closer to target\n",
        "        if np.linalg.norm(self.target_pos - current_pos) < 0.5:  # Target reached\n",
        "            reward += 100\n",
        "            done = True\n",
        "        elif self.episode_step >= self._max_episode_steps:\n",
        "            done = True\n",
        "        elif any(np.linalg.norm(current_pos - area) < 1.0 for area in self.shaded_areas):  # Collision penalty\n",
        "            reward -= 50\n",
        "            done = True\n",
        "        else:\n",
        "            done = False\n",
        "\n",
        "        self.episode_step += 1\n",
        "\n",
        "        return obs, reward, done, {}\n",
        "\n",
        "    def render(self, mode=\"human\"):\n",
        "        pass\n",
        "\n",
        "    def close(self):\n",
        "        p.disconnect()\n"
      ]
    }
  ]
}