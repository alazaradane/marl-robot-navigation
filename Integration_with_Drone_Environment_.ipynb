{
  "nbformat": 4,
  "nbformat_minor": 0,
  "metadata": {
    "colab": {
      "provenance": [],
      "authorship_tag": "ABX9TyO29WSxjDWCshpGkzogSz57",
      "include_colab_link": true
    },
    "kernelspec": {
      "name": "python3",
      "display_name": "Python 3"
    },
    "language_info": {
      "name": "python"
    }
  },
  "cells": [
    {
      "cell_type": "markdown",
      "metadata": {
        "id": "view-in-github",
        "colab_type": "text"
      },
      "source": [
        "<a href=\"https://colab.research.google.com/github/alazaradane/marl-robot-navigation/blob/main/Integration_with_Drone_Environment_.ipynb\" target=\"_parent\"><img src=\"https://colab.research.google.com/assets/colab-badge.svg\" alt=\"Open In Colab\"/></a>"
      ]
    },
    {
      "cell_type": "markdown",
      "source": [
        "#Integration with Drone Environment:"
      ],
      "metadata": {
        "id": "lgaW7UqOyXtZ"
      }
    },
    {
      "cell_type": "markdown",
      "source": [
        "When the drone takes an action, the reward is calculated as follows:"
      ],
      "metadata": {
        "id": "juni_pwoytw1"
      }
    },
    {
      "cell_type": "markdown",
      "source": [
        "## Updates to PPO Agent\n",
        "The PPO agent implementation remains largely the same, but now it works with the updated environment that has:\n",
        "\n",
        "Dynamic Start and Target Positions: The target and start points change for every episode.\n",
        "\n",
        "Dynamic Obstacles: The shaded areas (obstacle zones) change positions dynamically.\n",
        "\n",
        "The reward system has also been adjusted:\n",
        "\n",
        "Positive reward for moving closer to the target.\n",
        "\n",
        "Large reward for reaching the target.\n",
        "\n",
        "Negative reward for collisions or straying into shaded areas.\n"
      ],
      "metadata": {
        "id": "PWE4t-ZK3Iwl"
      }
    },
    {
      "cell_type": "code",
      "execution_count": null,
      "metadata": {
        "id": "oEu28a7ryQKN"
      },
      "outputs": [],
      "source": [
        "class DroneEnvironment(py_environment.PyEnvironment):\n",
        "    def __init__(self, start_point, target_point, orange_center, orange_radius, render=False):\n",
        "        super(DroneEnvironment, self).__init__()\n",
        "\n",
        "        self.start_point = start_point\n",
        "        self.target_point = target_point\n",
        "        self.orange_center = orange_center\n",
        "        self.orange_radius = orange_radius\n",
        "        self.reward_calculator = CustomDroneRewardCalculator(self.start_point, self.target_point, self.orange_center, self.orange_radius)\n",
        "        self.render = render\n",
        "        self.reset()\n",
        "\n",
        "    def step(self, action):\n",
        "        if self.done:\n",
        "            return self.reset()\n",
        "\n",
        "        # Action: rotor control\n",
        "        throttle = action[0] * 10  # Scale action to match the control range\n",
        "        yaw = action[1] * 10\n",
        "        pitch = action[2] * 10\n",
        "        roll = action[3] * 10\n",
        "\n",
        "        # Apply control to the drone (simplified control model)\n",
        "        p.setJointMotorControlArray(\n",
        "            self.drone, range(4), p.VELOCITY_CONTROL, targetVelocities=[throttle, yaw, pitch, roll]\n",
        "        )\n",
        "\n",
        "        # Step simulation\n",
        "        p.stepSimulation()\n",
        "\n",
        "        # Get the new observation and check if a collision occurred\n",
        "        observation = self._get_observation()\n",
        "        collision_occurred = self._has_collision_occurred()\n",
        "\n",
        "        # Calculate reward\n",
        "        reward = self.reward_calculator.calculate_reward(observation[:3], action, collision_occurred)\n",
        "\n",
        "        # Check if episode is done\n",
        "        if self.reward_calculator.done:\n",
        "            return ts.termination(observation, reward)\n",
        "        else:\n",
        "            return ts.transition(observation, reward=reward, discount=1.0)\n"
      ]
    }
  ]
}